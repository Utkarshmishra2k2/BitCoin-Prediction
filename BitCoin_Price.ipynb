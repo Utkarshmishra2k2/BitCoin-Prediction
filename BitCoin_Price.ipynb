{
  "nbformat": 4,
  "nbformat_minor": 0,
  "metadata": {
    "colab": {
      "provenance": [],
      "authorship_tag": "ABX9TyPLOHY2DsDizwGQmYugZWuA",
      "include_colab_link": true
    },
    "kernelspec": {
      "name": "python3",
      "display_name": "Python 3"
    },
    "language_info": {
      "name": "python"
    },
    "gpuClass": "standard"
  },
  "cells": [
    {
      "cell_type": "markdown",
      "metadata": {
        "id": "view-in-github",
        "colab_type": "text"
      },
      "source": [
        "<a href=\"https://colab.research.google.com/github/Utkarshmishra2k2/BitCoin-Prediction/blob/main/BitCoin_Price.ipynb\" target=\"_parent\"><img src=\"https://colab.research.google.com/assets/colab-badge.svg\" alt=\"Open In Colab\"/></a>"
      ]
    },
    {
      "cell_type": "markdown",
      "source": [
        "#Library"
      ],
      "metadata": {
        "id": "8W-ILu618DdG"
      }
    },
    {
      "cell_type": "code",
      "source": [
        "import numpy as np\n",
        "import pandas as pd\n",
        "import matplotlib.pyplot as plt\n",
        "import plotly.express as px\n",
        "import seaborn as sns\n",
        "from sklearn.model_selection import train_test_split\n",
        "from sklearn.linear_model import LinearRegression\n",
        "from sklearn.metrics import mean_squared_error"
      ],
      "metadata": {
        "id": "7rbLWlq_-aXG"
      },
      "execution_count": null,
      "outputs": []
    },
    {
      "cell_type": "markdown",
      "source": [
        "#Data Loading and Cleaning"
      ],
      "metadata": {
        "id": "xAGyZP6e688l"
      }
    },
    {
      "cell_type": "code",
      "source": [
        "data_01 = pd.read_csv ( \"https://raw.githubusercontent.com/UM1412/Data-Set/main/BitcoinProject.csv\" )"
      ],
      "metadata": {
        "id": "msTdPrGm-F_c"
      },
      "execution_count": null,
      "outputs": []
    },
    {
      "cell_type": "code",
      "source": [
        "data_01.head(3)"
      ],
      "metadata": {
        "id": "91EDrapO-czg"
      },
      "execution_count": null,
      "outputs": []
    },
    {
      "cell_type": "code",
      "source": [
        "data_01.info()"
      ],
      "metadata": {
        "id": "kdLQvXOZ-jEy"
      },
      "execution_count": null,
      "outputs": []
    },
    {
      "cell_type": "code",
      "source": [
        "data_01.describe()"
      ],
      "metadata": {
        "id": "Hlotwt4x-obC"
      },
      "execution_count": null,
      "outputs": []
    },
    {
      "cell_type": "code",
      "source": [
        "data_01.shape"
      ],
      "metadata": {
        "id": "u493ZpN2-s6z"
      },
      "execution_count": null,
      "outputs": []
    },
    {
      "cell_type": "markdown",
      "source": [
        "#Exploratory Analysis"
      ],
      "metadata": {
        "id": "5HL-lp0U7EcH"
      }
    },
    {
      "cell_type": "code",
      "source": [
        "data_01.round( 2 )"
      ],
      "metadata": {
        "id": "-zKVeCIu-3io"
      },
      "execution_count": null,
      "outputs": []
    },
    {
      "cell_type": "code",
      "source": [
        "data_01.isnull().sum()"
      ],
      "metadata": {
        "id": "JV3nJRwdJhDO"
      },
      "execution_count": null,
      "outputs": []
    },
    {
      "cell_type": "code",
      "source": [
        "data_02 = data_01.dropna()"
      ],
      "metadata": {
        "id": "T6D_4mGYCrdo"
      },
      "execution_count": null,
      "outputs": []
    },
    {
      "cell_type": "code",
      "source": [
        "data_02.isnull().sum()"
      ],
      "metadata": {
        "id": "UiB1BdcaC4Ro"
      },
      "execution_count": null,
      "outputs": []
    },
    {
      "cell_type": "code",
      "source": [
        "data_01.duplicated().sum()"
      ],
      "metadata": {
        "id": "_YsefrRLJ_az"
      },
      "execution_count": null,
      "outputs": []
    },
    {
      "cell_type": "code",
      "source": [
        "corr_01 = data_01.corr()\n",
        "corr_01"
      ],
      "metadata": {
        "id": "q_O-Zbid_qDC"
      },
      "execution_count": null,
      "outputs": []
    },
    {
      "cell_type": "code",
      "source": [
        "plt.figure( figsize=( 25 , 25 ) )\n",
        "sns.heatmap( corr_01 , annot = True);"
      ],
      "metadata": {
        "id": "PAN9C-uBAA1f"
      },
      "execution_count": null,
      "outputs": []
    },
    {
      "cell_type": "code",
      "source": [
        "corr_02 = abs (corr_01[ \"btc_market_price\" ].sort_values(ascending = not True )[ 1: ] )"
      ],
      "metadata": {
        "id": "Y9m3js-OA37z"
      },
      "execution_count": null,
      "outputs": []
    },
    {
      "cell_type": "code",
      "source": [
        "def function ( parameter ):\n",
        "    feature_01 = corr_02[ corr_02 > parameter ]\n",
        "    return feature_01"
      ],
      "metadata": {
        "id": "WtbJkxfvp2J8"
      },
      "execution_count": null,
      "outputs": []
    },
    {
      "cell_type": "code",
      "source": [
        "dataindex_01 = function(0.81)"
      ],
      "metadata": {
        "id": "6QkC7xNhpgge"
      },
      "execution_count": null,
      "outputs": []
    },
    {
      "cell_type": "code",
      "source": [
        "dataindex_01"
      ],
      "metadata": {
        "id": "vJKrZL49OZqk"
      },
      "execution_count": null,
      "outputs": []
    },
    {
      "cell_type": "code",
      "source": [
        "data_02 = data_01 [ dataindex_01.index ]"
      ],
      "metadata": {
        "id": "-Nj66hpTqnE1"
      },
      "execution_count": null,
      "outputs": []
    },
    {
      "cell_type": "code",
      "source": [
        "data_02"
      ],
      "metadata": {
        "id": "3amj2t_7r6hS"
      },
      "execution_count": null,
      "outputs": []
    },
    {
      "cell_type": "code",
      "source": [
        "corr_02 = data_02.corr()\n",
        "corr_02"
      ],
      "metadata": {
        "id": "3YB5LjTJsFAb"
      },
      "execution_count": null,
      "outputs": []
    },
    {
      "cell_type": "code",
      "source": [
        "plt.figure( figsize=( 25 , 25 ) )\n",
        "sns.heatmap( corr_02 , annot = True);"
      ],
      "metadata": {
        "id": "Xy5l9FPhsFAc"
      },
      "execution_count": null,
      "outputs": []
    },
    {
      "cell_type": "code",
      "source": [
        "data_02.drop([ \"btc_miners_revenue\" , \"btc_estimated_transaction_volume_usd\" ] , axis=1 , inplace=True )\n",
        "data_02.shape"
      ],
      "metadata": {
        "id": "pOQjRmwxsdg9"
      },
      "execution_count": null,
      "outputs": []
    },
    {
      "cell_type": "code",
      "source": [
        "data_02.isnull().sum()"
      ],
      "metadata": {
        "id": "u16WPLgbsPEu"
      },
      "execution_count": null,
      "outputs": []
    },
    {
      "cell_type": "code",
      "source": [
        "data_02[ \"btc_difficulty\" ] = data_02[ \"btc_difficulty\" ].fillna( data_02[ \"btc_difficulty\" ].mean())"
      ],
      "metadata": {
        "id": "74eTEklNClm1"
      },
      "execution_count": null,
      "outputs": []
    },
    {
      "cell_type": "code",
      "source": [
        "data_02[ \"btc_trade_volume\" ] = data_02[ \"btc_trade_volume\" ].fillna( data_02[ \"btc_trade_volume\" ].mean())"
      ],
      "metadata": {
        "id": "6AqFz2LiDMG1"
      },
      "execution_count": null,
      "outputs": []
    },
    {
      "cell_type": "code",
      "source": [
        "data_02.isnull().sum()"
      ],
      "metadata": {
        "id": "igQL2kF4DaQS"
      },
      "execution_count": null,
      "outputs": []
    },
    {
      "cell_type": "code",
      "source": [
        "corr_03 = data_02.corr()\n",
        "plt.figure( figsize=( 25 , 25 ) )\n",
        "sns.heatmap( corr_03 , annot = True);"
      ],
      "metadata": {
        "id": "wn9Q7HgSDf6C"
      },
      "execution_count": null,
      "outputs": []
    },
    {
      "cell_type": "markdown",
      "source": [
        "#Modeling"
      ],
      "metadata": {
        "id": "63n9zhbGR_ds"
      }
    },
    {
      "cell_type": "code",
      "source": [
        "Y_indep = data_01[ \"btc_market_price\" ]"
      ],
      "metadata": {
        "id": "o1puipt6D7PF"
      },
      "execution_count": null,
      "outputs": []
    },
    {
      "cell_type": "code",
      "source": [
        "X_dep = data_02"
      ],
      "metadata": {
        "id": "Q2R1PBe6Fqwq"
      },
      "execution_count": null,
      "outputs": []
    },
    {
      "cell_type": "code",
      "source": [
        "X_tarin,X_test,Y_train,Y_test = train_test_split( X_dep , Y_indep , train_size = 0.9 , random_state = 45 )"
      ],
      "metadata": {
        "id": "PfkXgnojFvSp"
      },
      "execution_count": null,
      "outputs": []
    },
    {
      "cell_type": "code",
      "source": [
        "X_tarin"
      ],
      "metadata": {
        "id": "aXdXZZuAO94q"
      },
      "execution_count": null,
      "outputs": []
    },
    {
      "cell_type": "code",
      "source": [
        "X_test"
      ],
      "metadata": {
        "id": "Cqd_Ta9uHGdF"
      },
      "execution_count": null,
      "outputs": []
    },
    {
      "cell_type": "code",
      "source": [
        "Y_train"
      ],
      "metadata": {
        "id": "NPmsKSPxPDW5"
      },
      "execution_count": null,
      "outputs": []
    },
    {
      "cell_type": "code",
      "source": [
        "Y_test"
      ],
      "metadata": {
        "id": "jApxKbHBIWxq"
      },
      "execution_count": null,
      "outputs": []
    },
    {
      "cell_type": "code",
      "source": [
        "model_01 = LinearRegression()"
      ],
      "metadata": {
        "id": "p4GLFbAonrJv"
      },
      "execution_count": null,
      "outputs": []
    },
    {
      "cell_type": "code",
      "source": [
        "model_01.fit(X_tarin,Y_train)"
      ],
      "metadata": {
        "id": "oDtgI4W3nxhP"
      },
      "execution_count": null,
      "outputs": []
    },
    {
      "cell_type": "code",
      "source": [
        "predictions_01 = model_01.predict(X_tarin)"
      ],
      "metadata": {
        "id": "cH2SgkzGn2i5"
      },
      "execution_count": null,
      "outputs": []
    },
    {
      "cell_type": "code",
      "source": [
        "print( predictions_01 )"
      ],
      "metadata": {
        "id": "XOUB6NfoVqyH"
      },
      "execution_count": null,
      "outputs": []
    },
    {
      "cell_type": "code",
      "source": [
        "rmse = (np.sqrt(mean_squared_error(Y_test,predictions_01)))"
      ],
      "metadata": {
        "id": "USr3moUrNdYO"
      },
      "execution_count": null,
      "outputs": []
    }
  ]
}